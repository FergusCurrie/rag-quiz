{
 "cells": [
  {
   "cell_type": "code",
   "execution_count": 6,
   "metadata": {},
   "outputs": [],
   "source": [
    "from backend.connections import get_postgres_db\n",
    "\n",
    "\n"
   ]
  },
  {
   "cell_type": "code",
   "execution_count": 4,
   "metadata": {},
   "outputs": [
    {
     "name": "stdout",
     "output_type": "stream",
     "text": [
      "✅ alembic_version table dropped successfully.\n"
     ]
    }
   ],
   "source": [
    "\n",
    "\n",
    "# from sqlalchemy import text\n",
    "# from sqlalchemy.exc import SQLAlchemyError\n",
    "\n",
    "# def drop_alembic_version(session):\n",
    "#     try:\n",
    "#         session.execute(text(\"SELECT * FROM alembic_version;\"))\n",
    "#         session.commit()\n",
    "#         print(\"✅ alembic_version table dropped successfully.\")\n",
    "#     except SQLAlchemyError as e:\n",
    "#         session.rollback()  # 🔴 Rollback to clear the failed transaction\n",
    "#         print(f\"❌ Error dropping alembic_version: {e}\")\n",
    "\n",
    "# # Usage\n",
    "# db = next(get_postgres_db())\n",
    "# drop_alembic_version(db)\n"
   ]
  },
  {
   "cell_type": "code",
   "execution_count": 5,
   "metadata": {},
   "outputs": [
    {
     "name": "stdout",
     "output_type": "stream",
     "text": [
      "✅ alembic_version table dropped successfully.\n"
     ]
    }
   ],
   "source": [
    "# from sqlalchemy import text\n",
    "# from sqlalchemy.exc import SQLAlchemyError\n",
    "\n",
    "# def drop_alembic_version(session):\n",
    "#     try:\n",
    "#         session.execute(text(\"DROP TABLE IF EXISTS alembic_version;\"))\n",
    "#         session.commit()\n",
    "#         print(\"✅ alembic_version table dropped successfully.\")\n",
    "#     except SQLAlchemyError as e:\n",
    "#         session.rollback()  # 🔴 Rollback to clear the failed transaction\n",
    "#         print(f\"❌ Error dropping alembic_version: {e}\")\n",
    "\n",
    "# # Usage\n",
    "# drop_alembic_version(db)\n",
    "\n"
   ]
  },
  {
   "cell_type": "code",
   "execution_count": 8,
   "metadata": {},
   "outputs": [
    {
     "data": {
      "text/plain": [
       "{'review_id': UUID('a53e3d18-b3b8-4ad6-a8d1-75645e11bc6a'),\n",
       " 'review_date': datetime.datetime(2025, 1, 17, 1, 25, 37, 218915),\n",
       " 'llm_response': 'The student\\'s answer captures the essence of what a dimension table is by mentioning that it contains categorical features related to the fact table. However, it lacks detail and clarity. The mention of \"join many-1\" is a bit vague and not well-explained, making it unclear to readers who may not have a strong background in data warehousing. The correct answer provides a more comprehensive explanation of dimension tables and examples of their attributes. Therefore, while the student has some understanding, the answer could be improved significantly by incorporating more detail and clearer terminology.',\n",
       " 'llm_model': 'gpt-4o',\n",
       " 'llm_rating': 5,\n",
       " 'concept_id': UUID('e473e42c-9917-4784-8de7-8229bebf53bc'),\n",
       " 'question_id': UUID('5d8d49ee-e8bd-412e-9211-b1b2b1fe9092'),\n",
       " 'user_response': 'Dimension tables contain cateogrical features of the fact table. They join many-1 on the fact. ',\n",
       " 'time_taken': 31,\n",
       " 'user_rating': 2}"
      ]
     },
     "execution_count": 8,
     "metadata": {},
     "output_type": "execute_result"
    }
   ],
   "source": [
    "from backend.crud import get_all_reviews\n",
    "from sqlalchemy import text \n",
    "db = next(get_postgres_db())\n",
    "get_all_reviews(db)[-1].to_dict()"
   ]
  },
  {
   "cell_type": "code",
   "execution_count": 8,
   "metadata": {},
   "outputs": [
    {
     "name": "stdout",
     "output_type": "stream",
     "text": [
      "❌ Error dropping alembic_version: (psycopg2.errors.InFailedSqlTransaction) current transaction is aborted, commands ignored until end of transaction block\n",
      "\n",
      "[SQL: DROP TABLE IF EXISTS alembic_version;]\n",
      "(Background on this error at: https://sqlalche.me/e/20/2j85)\n"
     ]
    }
   ],
   "source": [
    "from sqlalchemy import text\n",
    "from sqlalchemy.exc import SQLAlchemyError\n",
    "\n",
    "def drop_alembic_version(session):\n",
    "    try:\n",
    "        session.execute(text(\"DROP TABLE IF EXISTS alembic_version;\"))\n",
    "        session.commit()\n",
    "        print(\"✅ alembic_version table dropped successfully.\")\n",
    "    except SQLAlchemyError as e:\n",
    "        session.rollback()  # 🔴 Rollback to clear the failed transaction\n",
    "        print(f\"❌ Error dropping alembic_version: {e}\")\n",
    "\n",
    "# Usage\n",
    "drop_alembic_version(db)\n"
   ]
  },
  {
   "cell_type": "code",
   "execution_count": null,
   "metadata": {},
   "outputs": [],
   "source": []
  }
 ],
 "metadata": {
  "kernelspec": {
   "display_name": "rag-quiz-_842fax4-py3.12",
   "language": "python",
   "name": "python3"
  },
  "language_info": {
   "codemirror_mode": {
    "name": "ipython",
    "version": 3
   },
   "file_extension": ".py",
   "mimetype": "text/x-python",
   "name": "python",
   "nbconvert_exporter": "python",
   "pygments_lexer": "ipython3",
   "version": "3.12.8"
  }
 },
 "nbformat": 4,
 "nbformat_minor": 2
}
