{
 "cells": [
  {
   "cell_type": "code",
   "execution_count": 12,
   "metadata": {},
   "outputs": [],
   "source": [
    "from backend.connections import get_postgres_db\n",
    "\n",
    "\n"
   ]
  },
  {
   "cell_type": "code",
   "execution_count": 13,
   "metadata": {},
   "outputs": [
    {
     "data": {
      "text/plain": [
       "<sqlalchemy.orm.session.Session at 0x7c6b8d322c90>"
      ]
     },
     "execution_count": 13,
     "metadata": {},
     "output_type": "execute_result"
    }
   ],
   "source": [
    "db = next(db)\n",
    "db"
   ]
  },
  {
   "cell_type": "code",
   "execution_count": 14,
   "metadata": {},
   "outputs": [],
   "source": [
    "# from sqlalchemy import text\n",
    "# from sqlalchemy.exc import SQLAlchemyError\n",
    "\n",
    "# def drop_alembic_version(session):\n",
    "#     try:\n",
    "#         session.execute(text(\"DROP TABLE IF EXISTS alembic_version;\"))\n",
    "#         session.commit()\n",
    "#         print(\"✅ alembic_version table dropped successfully.\")\n",
    "#     except SQLAlchemyError as e:\n",
    "#         session.rollback()  # 🔴 Rollback to clear the failed transaction\n",
    "#         print(f\"❌ Error dropping alembic_version: {e}\")\n",
    "\n",
    "# # Usage\n",
    "# drop_alembic_version(db)\n"
   ]
  },
  {
   "cell_type": "code",
   "execution_count": 20,
   "metadata": {},
   "outputs": [
    {
     "data": {
      "text/plain": [
       "26"
      ]
     },
     "execution_count": 20,
     "metadata": {},
     "output_type": "execute_result"
    }
   ],
   "source": [
    "from backend.crud import get_all_reviews\n",
    "from sqlalchemy import text \n",
    "db = next(get_postgres_db())\n",
    "get_all_reviews(db)[-1].time_taken"
   ]
  },
  {
   "cell_type": "code",
   "execution_count": 8,
   "metadata": {},
   "outputs": [
    {
     "name": "stdout",
     "output_type": "stream",
     "text": [
      "❌ Error dropping alembic_version: (psycopg2.errors.InFailedSqlTransaction) current transaction is aborted, commands ignored until end of transaction block\n",
      "\n",
      "[SQL: DROP TABLE IF EXISTS alembic_version;]\n",
      "(Background on this error at: https://sqlalche.me/e/20/2j85)\n"
     ]
    }
   ],
   "source": [
    "from sqlalchemy import text\n",
    "from sqlalchemy.exc import SQLAlchemyError\n",
    "\n",
    "def drop_alembic_version(session):\n",
    "    try:\n",
    "        session.execute(text(\"DROP TABLE IF EXISTS alembic_version;\"))\n",
    "        session.commit()\n",
    "        print(\"✅ alembic_version table dropped successfully.\")\n",
    "    except SQLAlchemyError as e:\n",
    "        session.rollback()  # 🔴 Rollback to clear the failed transaction\n",
    "        print(f\"❌ Error dropping alembic_version: {e}\")\n",
    "\n",
    "# Usage\n",
    "drop_alembic_version(db)\n"
   ]
  },
  {
   "cell_type": "code",
   "execution_count": null,
   "metadata": {},
   "outputs": [],
   "source": []
  }
 ],
 "metadata": {
  "kernelspec": {
   "display_name": "rag-quiz-_842fax4-py3.12",
   "language": "python",
   "name": "python3"
  },
  "language_info": {
   "codemirror_mode": {
    "name": "ipython",
    "version": 3
   },
   "file_extension": ".py",
   "mimetype": "text/x-python",
   "name": "python",
   "nbconvert_exporter": "python",
   "pygments_lexer": "ipython3",
   "version": "3.12.8"
  }
 },
 "nbformat": 4,
 "nbformat_minor": 2
}
