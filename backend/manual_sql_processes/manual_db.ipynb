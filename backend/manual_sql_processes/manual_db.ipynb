{
 "cells": [
  {
   "cell_type": "code",
   "execution_count": 1,
   "metadata": {},
   "outputs": [],
   "source": [
    "from backend.connections import get_postgres_db\n",
    "\n"
   ]
  },
  {
   "cell_type": "code",
   "execution_count": 2,
   "metadata": {},
   "outputs": [],
   "source": [
    "# from sqlalchemy import text\n",
    "# from sqlalchemy.exc import SQLAlchemyError\n",
    "\n",
    "# def drop_alembic_version(session):\n",
    "#     try:\n",
    "#         session.execute(text(\"DROP TABLE IF EXISTS alembic_version;\"))\n",
    "#         session.commit()\n",
    "#         print(\"✅ alembic_version table dropped successfully.\")\n",
    "#     except SQLAlchemyError as e:\n",
    "#         session.rollback()  # 🔴 Rollback to clear the failed transaction\n",
    "#         print(f\"❌ Error dropping alembic_version: {e}\")\n",
    "\n",
    "# # Usage\n",
    "# db = next(get_postgres_db())\n",
    "# drop_alembic_version(db)\n",
    "\n"
   ]
  },
  {
   "cell_type": "code",
   "execution_count": 3,
   "metadata": {},
   "outputs": [
    {
     "data": {
      "text/plain": [
       "{'review_id': UUID('44e34dde-94ca-435e-9f69-3385552ce895'),\n",
       " 'review_date': datetime.datetime(2025, 1, 17, 4, 9, 27, 499495),\n",
       " 'llm_response': \"The student's answer correctly identifies that a primary key is a unique identifier for each dimension, which is a fundamental aspect of database tables. However, it lacks the additional context regarding its relationship to fact tables and its importance in querying efficiency, which are crucial for a complete understanding. Including these details would strengthen the answer significantly.\",\n",
       " 'llm_model': 'gpt-4o',\n",
       " 'llm_rating': 6,\n",
       " 'concept_id': UUID('e473e42c-9917-4784-8de7-8229bebf53bc'),\n",
       " 'question_id': UUID('834f2ff7-4173-4b1e-b6a5-3d609018ecd2'),\n",
       " 'user_response': 'Primary key is a unique identitifer for each dimension',\n",
       " 'time_taken': 14,\n",
       " 'user_rating': 2,\n",
       " 'prompt_id': UUID('9c7bd37c-fa33-40bd-b012-129472117bfe')}"
      ]
     },
     "execution_count": 3,
     "metadata": {},
     "output_type": "execute_result"
    }
   ],
   "source": [
    "from backend.crud import get_all_reviews\n",
    "from sqlalchemy import text \n",
    "db = next(get_postgres_db())\n",
    "get_all_reviews(db)[-1].to_dict()"
   ]
  },
  {
   "cell_type": "code",
   "execution_count": 8,
   "metadata": {},
   "outputs": [
    {
     "name": "stdout",
     "output_type": "stream",
     "text": [
      "❌ Error dropping alembic_version: (psycopg2.errors.InFailedSqlTransaction) current transaction is aborted, commands ignored until end of transaction block\n",
      "\n",
      "[SQL: DROP TABLE IF EXISTS alembic_version;]\n",
      "(Background on this error at: https://sqlalche.me/e/20/2j85)\n"
     ]
    }
   ],
   "source": [
    "from sqlalchemy import text\n",
    "from sqlalchemy.exc import SQLAlchemyError\n",
    "\n",
    "def drop_alembic_version(session):\n",
    "    try:\n",
    "        session.execute(text(\"DROP TABLE IF EXISTS alembic_version;\"))\n",
    "        session.commit()\n",
    "        print(\"✅ alembic_version table dropped successfully.\")\n",
    "    except SQLAlchemyError as e:\n",
    "        session.rollback()  # 🔴 Rollback to clear the failed transaction\n",
    "        print(f\"❌ Error dropping alembic_version: {e}\")\n",
    "\n",
    "# Usage\n",
    "drop_alembic_version(db)\n"
   ]
  },
  {
   "cell_type": "code",
   "execution_count": null,
   "metadata": {},
   "outputs": [],
   "source": []
  }
 ],
 "metadata": {
  "kernelspec": {
   "display_name": "rag-quiz-_842fax4-py3.12",
   "language": "python",
   "name": "python3"
  },
  "language_info": {
   "codemirror_mode": {
    "name": "ipython",
    "version": 3
   },
   "file_extension": ".py",
   "mimetype": "text/x-python",
   "name": "python",
   "nbconvert_exporter": "python",
   "pygments_lexer": "ipython3",
   "version": "3.12.8"
  }
 },
 "nbformat": 4,
 "nbformat_minor": 2
}
