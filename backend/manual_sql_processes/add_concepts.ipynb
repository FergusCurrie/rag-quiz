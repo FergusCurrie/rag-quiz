{
 "cells": [
  {
   "cell_type": "markdown",
   "metadata": {},
   "source": [
    "# Start by querying list of concepts"
   ]
  },
  {
   "cell_type": "code",
   "execution_count": 5,
   "metadata": {},
   "outputs": [
    {
     "name": "stdout",
     "output_type": "stream",
     "text": [
      "Fact Table Dimensional Modelling\n",
      "Fact Table\n",
      "Dimension Table\n",
      "L1 Cache\n",
      "L2 Cache\n",
      "Register\n",
      "XGboost\n",
      "decision tree\n",
      "backpropogation\n"
     ]
    }
   ],
   "source": [
    "from backend.connections import get_postgres_db\n",
    "\n",
    "from backend.crud import create_concept\n",
    "from sqlalchemy import text \n",
    "\n",
    "from backend import models \n",
    "\n",
    "concepts = next(get_postgres_db()).query(models.ConceptStore).all()\n",
    "for c in concepts:\n",
    "    print(c.to_dict()['concept'])"
   ]
  },
  {
   "cell_type": "markdown",
   "metadata": {},
   "source": [
    "# Adding concepts"
   ]
  },
  {
   "cell_type": "code",
   "execution_count": 9,
   "metadata": {},
   "outputs": [
    {
     "data": {
      "text/plain": [
       "['Fact Table Dimensional Modelling',\n",
       " 'Fact Table',\n",
       " 'Dimension Table',\n",
       " 'L1 Cache',\n",
       " 'L2 Cache',\n",
       " 'Register',\n",
       " 'XGboost',\n",
       " 'decision tree',\n",
       " 'backpropogation',\n",
       " 'mean squared error',\n",
       " 'mean absolute error',\n",
       " 'root mean squared error']"
      ]
     },
     "execution_count": 9,
     "metadata": {},
     "output_type": "execute_result"
    }
   ],
   "source": [
    "with open('concepts.txt', 'r') as f:\n",
    "    concepts = [line.strip() for line in f if line.strip()]\n",
    "concepts"
   ]
  },
  {
   "cell_type": "code",
   "execution_count": 10,
   "metadata": {},
   "outputs": [
    {
     "name": "stdout",
     "output_type": "stream",
     "text": [
      "Fact Table Dimensional Modelling... already in db\n",
      "Fact Table... already in db\n",
      "Dimension Table... already in db\n",
      "L1 Cache... already in db\n",
      "L2 Cache... already in db\n",
      "Register... already in db\n",
      "XGboost... already in db\n",
      "decision tree... already in db\n",
      "backpropogation... already in db\n",
      "Added mean squared error\n",
      "Added mean absolute error\n",
      "Added root mean squared error\n"
     ]
    }
   ],
   "source": [
    "\n",
    "\n",
    "def is_in_concept_db(concept):\n",
    "    return len(next(get_postgres_db()).query(models.ConceptStore).filter(models.ConceptStore.concept == concept).all()) > 0\n",
    "\n",
    "def add_concept_if_not_exists(concept):\n",
    "    if is_in_concept_db(concept):\n",
    "        print(f\"{concept}... already in db\")\n",
    "    else:\n",
    "        db = next(get_postgres_db())\n",
    "        create_concept(db, concept, user_created=True) \n",
    "        print(f'Added {concept}')\n",
    "\n",
    "for c in concepts:\n",
    "    add_concept_if_not_exists(c)"
   ]
  },
  {
   "cell_type": "code",
   "execution_count": null,
   "metadata": {},
   "outputs": [],
   "source": []
  },
  {
   "cell_type": "code",
   "execution_count": null,
   "metadata": {},
   "outputs": [],
   "source": []
  },
  {
   "cell_type": "code",
   "execution_count": null,
   "metadata": {},
   "outputs": [],
   "source": []
  },
  {
   "cell_type": "code",
   "execution_count": null,
   "metadata": {},
   "outputs": [],
   "source": []
  }
 ],
 "metadata": {
  "kernelspec": {
   "display_name": "rag-quiz-_842fax4-py3.12",
   "language": "python",
   "name": "python3"
  },
  "language_info": {
   "codemirror_mode": {
    "name": "ipython",
    "version": 3
   },
   "file_extension": ".py",
   "mimetype": "text/x-python",
   "name": "python",
   "nbconvert_exporter": "python",
   "pygments_lexer": "ipython3",
   "version": "3.12.8"
  }
 },
 "nbformat": 4,
 "nbformat_minor": 2
}
