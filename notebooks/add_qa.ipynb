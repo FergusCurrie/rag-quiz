{
 "cells": [
  {
   "cell_type": "code",
   "execution_count": 4,
   "metadata": {},
   "outputs": [],
   "source": [
    "from backend.connections import get_postgres_db\n",
    "\n",
    "db = next(get_postgres_db())\n",
    "\n",
    "\n",
    "from backend.models import ConceptStore\n",
    "\n",
    "concepts = db.query(ConceptStore).all()"
   ]
  },
  {
   "cell_type": "code",
   "execution_count": 8,
   "metadata": {},
   "outputs": [
    {
     "name": "stdout",
     "output_type": "stream",
     "text": [
      "cf9459f6-4bc6-4eb2-9755-19f2b0232d22\n",
      "Sending concept: Fact Table\n",
      "Saved new\n",
      "Saved new\n",
      "Saved new\n",
      "Saved new\n",
      "Saved new\n",
      "8f285a2d-ca6b-4f23-af18-abf3c915b025\n",
      "Sending concept: Dimension Table\n",
      "Saved new\n",
      "Saved new\n",
      "Saved new\n",
      "Saved new\n",
      "Saved new\n",
      "e473e42c-9917-4784-8de7-8229bebf53bc\n",
      "Sending concept: L1 Cache\n",
      "Saved new\n",
      "Saved new\n",
      "Saved new\n",
      "Saved new\n",
      "Saved new\n",
      "2704a204-2091-4187-92d2-6e691201671a\n",
      "Sending concept: L2 Cache\n",
      "Saved new\n",
      "Saved new\n",
      "Saved new\n",
      "Saved new\n",
      "Saved new\n",
      "9e7abe5f-84a5-4a61-b5f2-20093c93e1f4\n",
      "Sending concept: Register\n",
      "Saved new\n",
      "Saved new\n",
      "Saved new\n",
      "Saved new\n",
      "Saved new\n",
      "f52b3259-dd16-474f-a346-92208589f5a0\n",
      "Sending concept: XGboost\n",
      "Saved new\n",
      "Saved new\n",
      "Saved new\n",
      "Saved new\n",
      "Saved new\n",
      "5f6ed3a3-11cb-454f-9b03-f118fc049c35\n",
      "Sending concept: decision tree\n",
      "Saved new\n",
      "Saved new\n",
      "Saved new\n",
      "Saved new\n",
      "Saved new\n",
      "6de24906-e0bd-4793-95e9-51eef34f0066\n",
      "Sending concept: backpropogation\n",
      "Saved new\n",
      "Saved new\n",
      "Saved new\n",
      "Saved new\n",
      "Saved new\n",
      "b682d2cb-9d9a-4967-afc8-a60a8f54c6e7\n"
     ]
    }
   ],
   "source": [
    "from backend.models import Question\n",
    "from backend.qa import query_concept_quiz\n",
    "from backend.crud import create_question\n",
    "\n",
    "\n",
    "for concept in concepts:\n",
    "    size = db.query(Question).filter(Question.concept_id == concept.concept_id).count()\n",
    "    if size == 0:\n",
    "        # query and save \n",
    "        response = query_concept_quiz(concept.concept)\n",
    "        for _, question_answer in response.items():\n",
    "            create_question(db, question_answer['question'], question_answer['answer'], concept_id=concept.concept_id)\n",
    "            print('Saved new')\n",
    "    print(concept.concept_id)"
   ]
  },
  {
   "cell_type": "code",
   "execution_count": null,
   "metadata": {},
   "outputs": [],
   "source": []
  }
 ],
 "metadata": {
  "kernelspec": {
   "display_name": "rag-quiz-_842fax4-py3.12",
   "language": "python",
   "name": "python3"
  },
  "language_info": {
   "codemirror_mode": {
    "name": "ipython",
    "version": 3
   },
   "file_extension": ".py",
   "mimetype": "text/x-python",
   "name": "python",
   "nbconvert_exporter": "python",
   "pygments_lexer": "ipython3",
   "version": "3.12.8"
  }
 },
 "nbformat": 4,
 "nbformat_minor": 2
}
