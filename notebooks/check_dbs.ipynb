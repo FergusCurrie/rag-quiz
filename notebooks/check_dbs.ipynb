{
 "cells": [
  {
   "cell_type": "code",
   "execution_count": 1,
   "metadata": {},
   "outputs": [],
   "source": [
    "from backend.connections import get_postgres_db"
   ]
  },
  {
   "cell_type": "code",
   "execution_count": 3,
   "metadata": {},
   "outputs": [
    {
     "name": "stdout",
     "output_type": "stream",
     "text": [
      "Concept ID: cf9459f6-4bc6-4eb2-9755-19f2b0232d22\n",
      "Concept: Fact Table Dimensional Modelling\n",
      "User Created: True\n",
      "--------------------------------------------------\n",
      "Concept ID: 8f285a2d-ca6b-4f23-af18-abf3c915b025\n",
      "Concept: Fact Table\n",
      "User Created: True\n",
      "--------------------------------------------------\n",
      "Concept ID: e473e42c-9917-4784-8de7-8229bebf53bc\n",
      "Concept: Dimension Table\n",
      "User Created: True\n",
      "--------------------------------------------------\n",
      "Concept ID: 2704a204-2091-4187-92d2-6e691201671a\n",
      "Concept: L1 Cache\n",
      "User Created: True\n",
      "--------------------------------------------------\n",
      "Concept ID: 9e7abe5f-84a5-4a61-b5f2-20093c93e1f4\n",
      "Concept: L2 Cache\n",
      "User Created: True\n",
      "--------------------------------------------------\n",
      "Concept ID: f52b3259-dd16-474f-a346-92208589f5a0\n",
      "Concept: Register\n",
      "User Created: True\n",
      "--------------------------------------------------\n",
      "Concept ID: 5f6ed3a3-11cb-454f-9b03-f118fc049c35\n",
      "Concept: XGboost\n",
      "User Created: True\n",
      "--------------------------------------------------\n",
      "Concept ID: 6de24906-e0bd-4793-95e9-51eef34f0066\n",
      "Concept: decision tree\n",
      "User Created: True\n",
      "--------------------------------------------------\n",
      "Concept ID: b682d2cb-9d9a-4967-afc8-a60a8f54c6e7\n",
      "Concept: backpropogation\n",
      "User Created: True\n",
      "--------------------------------------------------\n"
     ]
    }
   ],
   "source": [
    "db = get_postgres_db()\n",
    "\n",
    "\n",
    "from backend.models import ConceptStore\n",
    "\n",
    "concepts = next(db).query(ConceptStore).all()\n",
    "for concept in concepts:\n",
    "    print(f\"Concept ID: {concept.concept_id}\")\n",
    "    print(f\"Concept: {concept.concept}\")\n",
    "    print(f\"User Created: {concept.user_created}\")\n",
    "    print(\"-\" * 50)\n"
   ]
  },
  {
   "cell_type": "code",
   "execution_count": null,
   "metadata": {},
   "outputs": [],
   "source": []
  }
 ],
 "metadata": {
  "kernelspec": {
   "display_name": "rag-quiz-_842fax4-py3.12",
   "language": "python",
   "name": "python3"
  },
  "language_info": {
   "codemirror_mode": {
    "name": "ipython",
    "version": 3
   },
   "file_extension": ".py",
   "mimetype": "text/x-python",
   "name": "python",
   "nbconvert_exporter": "python",
   "pygments_lexer": "ipython3",
   "version": "3.12.8"
  }
 },
 "nbformat": 4,
 "nbformat_minor": 2
}
