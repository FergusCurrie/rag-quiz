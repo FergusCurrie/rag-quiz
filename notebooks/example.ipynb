{
 "cells": [
  {
   "cell_type": "markdown",
   "id": "9e0c7611-4695-4454-84d9-333e8ff749ee",
   "metadata": {},
   "source": [
    "# Check openai model"
   ]
  },
  {
   "cell_type": "code",
   "execution_count": 4,
   "id": "a149b0a7",
   "metadata": {},
   "outputs": [
    {
     "data": {
      "text/plain": [
       "True"
      ]
     },
     "execution_count": 4,
     "metadata": {},
     "output_type": "execute_result"
    }
   ],
   "source": [
    "import os\n",
    "from dotenv import load_dotenv\n",
    "\n",
    "load_dotenv('../.env')"
   ]
  },
  {
   "cell_type": "code",
   "execution_count": 27,
   "id": "e516edc5",
   "metadata": {},
   "outputs": [],
   "source": [
    "prompt = \"\"\"\n",
    "You will be provided information on a concept from an academic STEM subject. \n",
    "You will use your knowledge to generate 5 questions and answers to test the students knowledge of the concept. \n",
    "The questions should be no more than a few sentences. \n",
    "\"\"\""
   ]
  },
  {
   "cell_type": "code",
   "execution_count": 28,
   "id": "5781606f-9d63-46c3-975c-8d317fd47fcd",
   "metadata": {},
   "outputs": [],
   "source": [
    "from openai import OpenAI\n",
    "\n",
    "client = OpenAI()\n",
    "completion = client.chat.completions.create(\n",
    "    model=\"gpt-4o-mini\",\n",
    "    messages=[\n",
    "        {\"role\": \"developer\", \"content\": prompt},\n",
    "        {\n",
    "            \"role\": \"user\",\n",
    "            \"content\": \"Fact tables in dimensional modelling\"\n",
    "        }\n",
    "    ]\n",
    ")\n"
   ]
  },
  {
   "cell_type": "code",
   "execution_count": 29,
   "id": "8d053860",
   "metadata": {},
   "outputs": [
    {
     "name": "stdout",
     "output_type": "stream",
     "text": [
      "1. **Question:** What is a fact table in dimensional modeling, and what is its primary purpose?\n",
      "   **Answer:** A fact table is a central table in a dimensional model that stores quantitative data for analysis. Its primary purpose is to record measurements or metrics (facts) associated with business processes, such as sales revenue, quantity sold, or hours worked, allowing for data analysis and reporting.\n",
      "\n",
      "2. **Question:** What are the key components of a fact table?\n",
      "   **Answer:** The key components of a fact table include:\n",
      "   - **Facts/Measures:** Numerical data that can be aggregated (e.g., sales amount, quantity).\n",
      "   - **Foreign Keys:** References to dimension tables, allowing the fact table to provide context for the measures (e.g., product ID, customer ID, time ID).\n",
      "\n",
      "3. **Question:** Explain the difference between a transactional fact table and a snapshot fact table.\n",
      "   **Answer:** A transactional fact table records data at the most granular level, capturing individual events or transactions (e.g., each sale per item at a store). In contrast, a snapshot fact table captures the state of a business at specific intervals (e.g., daily sales totals), summarizing data over a period of time rather than at the transaction level.\n",
      "\n",
      "4. **Question:** How can fact tables be designed to accommodate different levels of granularity?\n",
      "   **Answer:** Fact tables can be designed with different levels of granularity by including varying foreign key combinations to represent different dimensions of data, or by creating separate fact tables for different granularity levels (e.g., a detailed sales fact table and a summary sales fact table). This approach supports diverse analytical needs while maintaining efficient performance.\n",
      "\n",
      "5. **Question:** What is meant by \"fact table aggregation,\" and why is it important?\n",
      "   **Answer:** Fact table aggregation refers to the process of summarizing detailed data into higher-level metrics, such as calculating total sales by month or average sales per product. It is important because it enables faster query performance and more meaningful insights during data analysis, allowing analysts to focus on trends and patterns rather than sifting through extensive transaction-level data.\n"
     ]
    }
   ],
   "source": [
    "for line in completion.to_dict()['choices'][0]['message']['content'].split('\\n'):\n",
    "    print(line)"
   ]
  },
  {
   "cell_type": "markdown",
   "id": "7bfc66dd",
   "metadata": {},
   "source": [
    "# Relating content "
   ]
  },
  {
   "cell_type": "code",
   "execution_count": 30,
   "id": "d7232725",
   "metadata": {},
   "outputs": [
    {
     "name": "stdout",
     "output_type": "stream",
     "text": [
      "1. **Question:** How can a data leak in a dataset impact the accuracy of time series forecasting models?  \n",
      "   **Answer:** A data leak occurs when information from the future is inadvertently included in a training dataset, leading to overly optimistic performance metrics. In time series forecasting, this can result in models that appear to have high predictive accuracy during evaluation but fail to perform in real-world scenarios due to the unrealistic incorporation of future data.\n",
      "\n",
      "2. **Question:** In what ways can you identify and mitigate potential data leaks in a time series forecasting context?  \n",
      "   **Answer:** Potential data leaks can be identified by ensuring that training data only includes information available up to the prediction point, and separating data into appropriate temporal windows. Mitigation techniques include using rolling forecasts or walk-forward validation, ensuring no future values are used in training or evaluation phases.\n",
      "\n",
      "3. **Question:** What role does the temporal order of data play in preventing data leaks when developing time series forecasting models?  \n",
      "   **Answer:** The temporal order of data is critical in preventing data leaks, as time series forecasting relies on the sequential nature of observations. Maintaining this order ensures that past data is used to predict future values without introducing future information that could skew results, thereby preserving the model's validity.\n",
      "\n",
      "4. **Question:** How can understanding data leakage help improve the design of time series forecasting experiments?  \n",
      "   **Answer:** By understanding data leakage, researchers and practitioners can better design their experiments by implementing proper training-validation splits and time-aware cross-validation techniques. This leads to more reliable performance estimates, enhancing the robustness and generalizability of the forecasting models.\n",
      "\n",
      "5. **Question:** Can you give an example of a scenario where data leakage might occur in time series forecasting?  \n",
      "   **Answer:** An example of data leakage in time series forecasting could occur if a model is trained using data that includes a feature representing future outcomes or trends (e.g., using stock prices from a time series including data from future timestamps). This could mislead the model into making predictions based on information that is not available at the time of forecasting, leading to inaccurate and unrealistic predictions.\n"
     ]
    }
   ],
   "source": [
    "from openai import OpenAI\n",
    "\n",
    "prompt2 = \"\"\"\n",
    "You will be provided two related concepts from an academic STEM subject. \n",
    "You will use your knowledge to generate 5 questions and answers to test the students knowledge of the RELATIONSHIP between concepts. \n",
    "The questions should be no more than a few sentences. \n",
    "\"\"\"\n",
    "\n",
    "client = OpenAI()\n",
    "completion = client.chat.completions.create(\n",
    "    model=\"gpt-4o-mini\",\n",
    "    messages=[\n",
    "        {\"role\": \"developer\", \"content\": prompt2},\n",
    "        {\n",
    "            \"role\": \"user\",\n",
    "            \"content\": \"1. Data Leak 2. Time series forecasting\"\n",
    "        }\n",
    "    ]\n",
    ")\n",
    "\n",
    "for line in completion.to_dict()['choices'][0]['message']['content'].split('\\n'):\n",
    "    print(line)\n"
   ]
  },
  {
   "cell_type": "code",
   "execution_count": 31,
   "id": "4b8cf0b1",
   "metadata": {},
   "outputs": [
    {
     "name": "stdout",
     "output_type": "stream",
     "text": [
      "1. **Question**: How does matrix multiplication play a role in the forward pass of a neural network during deep learning?\n",
      "\n",
      "   **Answer**: In the forward pass of a neural network, inputs are represented as vectors and weights as matrices. During this process, matrix multiplication is used to compute the activation of each layer by multiplying the input vector by the weight matrix, followed by applying an activation function.\n",
      "\n",
      "2. **Question**: What is the significance of matrix multiplication in training deep learning models, particularly in backpropagation?\n",
      "\n",
      "   **Answer**: During backpropagation, matrix multiplication is critical for computing the gradient of the loss with respect to the weights. It helps in efficiently propagating errors backward through the network, allowing for the adjustment of weights based on how they impact the final output.\n",
      "\n",
      "3. **Question**: In what way does the size of matrices affect the implementation of deep learning models?\n",
      "\n",
      "   **Answer**: The size of matrices impacts computational efficiency and memory usage in deep learning models. Larger matrices require more computational resources for multiplication and can lead to longer training times, while smaller matrices can speed up computations and reduce memory demands, affecting the overall scalability of the model.\n",
      "\n",
      "4. **Question**: How does the concept of batch processing relate to matrix multiplication in deep learning frameworks?\n",
      "\n",
      "   **Answer**: Batch processing involves grouping multiple input samples together, allowing for concurrent matrix multiplications. This takes advantage of optimized matrix multiplication algorithms to process batches of data simultaneously, which improves training speed and efficiency in deep learning frameworks.\n",
      "\n",
      "5. **Question**: Why is it important to understand matrix multiplication properties, such as associativity and distributivity, when designing architectures in deep learning?\n",
      "\n",
      "   **Answer**: Understanding the properties of matrix multiplication is essential for effective network architecture design in deep learning. These properties allow for the simplification of complex layer interactions, optimization of computations, and efficient implementation of operations such as residual connections or attention mechanisms.\n"
     ]
    }
   ],
   "source": [
    "from openai import OpenAI\n",
    "\n",
    "prompt2 = \"\"\"\n",
    "You will be provided two related concepts from an academic STEM subject. \n",
    "You will use your knowledge to generate 5 questions and answers to test the students knowledge of the RELATIONSHIP between concepts. \n",
    "The questions should be no more than a few sentences. \n",
    "\"\"\"\n",
    "\n",
    "client = OpenAI()\n",
    "completion = client.chat.completions.create(\n",
    "    model=\"gpt-4o-mini\",\n",
    "    messages=[\n",
    "        {\"role\": \"developer\", \"content\": prompt2},\n",
    "        {\n",
    "            \"role\": \"user\",\n",
    "            \"content\": \"1. Matrix Multiplication 2. Deep learning\"\n",
    "        }\n",
    "    ]\n",
    ")\n",
    "\n",
    "for line in completion.to_dict()['choices'][0]['message']['content'].split('\\n'):\n",
    "    print(line)\n"
   ]
  },
  {
   "cell_type": "markdown",
   "id": "f1688451",
   "metadata": {},
   "source": [
    "# Judging "
   ]
  },
  {
   "cell_type": "code",
   "execution_count": null,
   "id": "32d332e8",
   "metadata": {},
   "outputs": [],
   "source": [
    "**Question:** What is a fact table in dimensional modeling, and what is its primary purpose?\n",
    "**User Answer:** It's the table in the middle of the star schema. It has mostly cateogircal data. \n",
    "**Corret Answer:** A fact table is a central table in a dimensional model that stores quantitative data for analysis. Its primary purpose is to record measurements or metrics (facts) associated with business processes, such as sales revenue, quantity sold, or hours worked, allowing for data analysis and reporting.\n"
   ]
  },
  {
   "cell_type": "code",
   "execution_count": 33,
   "id": "b8c5a9dc",
   "metadata": {},
   "outputs": [
    {
     "name": "stdout",
     "output_type": "stream",
     "text": [
      "**Response:** The user answer correctly identifies that the fact table is central to the star schema. However, it lacks specific details about what a fact table typically contains (quantitative data) and its primary purpose (to record metrics for analysis). The mention of \"mostly categorical data\" is incorrect as fact tables generally contain numerical data rather than categorical. Overall, the answer provides a partial understanding but fails to convey the key aspects of what a fact table is and its function in dimensional modeling.\n",
      "\n",
      "**Score:** 4\n"
     ]
    }
   ],
   "source": [
    "from openai import OpenAI\n",
    "\n",
    "prompt3 = \"\"\"\n",
    "You are judging the answer of a student to a quiz question. \n",
    "You will be provided the following:\n",
    "**Question:** \n",
    "**User Answer:** \n",
    "**Corret Answer:**\n",
    "Using a combination of your own knowledge and the correct answer, please give a short judgement on the quality of the answer and provide a rating between 1 and 10. \n",
    "Where 10 is perfect and 1 is terrible answer. \n",
    "Please respond with:\n",
    "**Response:** \n",
    "**Score:** \n",
    "\"\"\"\n",
    "\n",
    "response = \"\"\"\n",
    "**Question:** What is a fact table in dimensional modeling, and what is its primary purpose?\n",
    "**User Answer:** It's the table in the middle of the star schema. It has mostly cateogircal data. \n",
    "**Corret Answer:** A fact table is a central table in a dimensional model that stores quantitative data for analysis. Its primary purpose is to record measurements or metrics (facts) associated with business processes, such as sales revenue, quantity sold, or hours worked, allowing for data analysis and reporting.\n",
    "\"\"\"\n",
    "\n",
    "client = OpenAI()\n",
    "completion = client.chat.completions.create(\n",
    "    model=\"gpt-4o-mini\",\n",
    "    messages=[\n",
    "        {\"role\": \"developer\", \"content\": prompt3},\n",
    "        {\n",
    "            \"role\": \"user\",\n",
    "            \"content\": response\n",
    "        }\n",
    "    ]\n",
    ")\n",
    "\n",
    "for line in completion.to_dict()['choices'][0]['message']['content'].split('\\n'):\n",
    "    print(line)\n"
   ]
  },
  {
   "cell_type": "code",
   "execution_count": null,
   "id": "06b82dbc",
   "metadata": {},
   "outputs": [],
   "source": []
  },
  {
   "cell_type": "code",
   "execution_count": null,
   "id": "745f5911",
   "metadata": {},
   "outputs": [],
   "source": []
  }
 ],
 "metadata": {
  "kernelspec": {
   "display_name": "Python 3 (ipykernel)",
   "language": "python",
   "name": "python3"
  },
  "language_info": {
   "codemirror_mode": {
    "name": "ipython",
    "version": 3
   },
   "file_extension": ".py",
   "mimetype": "text/x-python",
   "name": "python",
   "nbconvert_exporter": "python",
   "pygments_lexer": "ipython3",
   "version": "3.12.8"
  }
 },
 "nbformat": 4,
 "nbformat_minor": 5
}
